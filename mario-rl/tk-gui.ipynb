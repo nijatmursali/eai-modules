{
 "cells": [
  {
   "cell_type": "code",
   "execution_count": 56,
   "metadata": {},
   "outputs": [],
   "source": [
    "from tkinter import * \n",
    "from tkinter.ttk import *"
   ]
  },
  {
   "cell_type": "code",
   "execution_count": 57,
   "metadata": {},
   "outputs": [
    {
     "data": {
      "text/plain": [
       "{'bd': ('bd', '-borderwidth'),\n",
       " 'borderwidth': ('borderwidth',\n",
       "  'borderWidth',\n",
       "  'BorderWidth',\n",
       "  <string object: '0'>,\n",
       "  0),\n",
       " 'class': ('class', 'class', 'Class', 'Toplevel', 'Mario-v1'),\n",
       " 'menu': ('menu', 'menu', 'Menu', '', ''),\n",
       " 'relief': ('relief', 'relief', 'Relief', <string object: 'flat'>, 'flat'),\n",
       " 'screen': ('screen', 'screen', 'Screen', '', ''),\n",
       " 'use': ('use', 'use', 'Use', '', ''),\n",
       " 'background': ('background',\n",
       "  'background',\n",
       "  'Background',\n",
       "  <string object: 'SystemButtonFace'>,\n",
       "  'SystemButtonFace'),\n",
       " 'bg': ('bg', '-background'),\n",
       " 'colormap': ('colormap', 'colormap', 'Colormap', '', ''),\n",
       " 'container': ('container', 'container', 'Container', 0, 0),\n",
       " 'cursor': ('cursor', 'cursor', 'Cursor', '', ''),\n",
       " 'height': ('height', 'height', 'Height', <string object: '0'>, 0),\n",
       " 'highlightbackground': ('highlightbackground',\n",
       "  'highlightBackground',\n",
       "  'HighlightBackground',\n",
       "  <string object: 'SystemButtonFace'>,\n",
       "  'SystemButtonFace'),\n",
       " 'highlightcolor': ('highlightcolor',\n",
       "  'highlightColor',\n",
       "  'HighlightColor',\n",
       "  <string object: 'SystemWindowFrame'>,\n",
       "  'SystemWindowFrame'),\n",
       " 'highlightthickness': ('highlightthickness',\n",
       "  'highlightThickness',\n",
       "  'HighlightThickness',\n",
       "  <string object: '0'>,\n",
       "  0),\n",
       " 'padx': ('padx', 'padX', 'Pad', <string object: '0'>, <string object: '0'>),\n",
       " 'pady': ('pady', 'padY', 'Pad', <string object: '0'>, <string object: '0'>),\n",
       " 'takefocus': ('takefocus', 'takeFocus', 'TakeFocus', '0', '0'),\n",
       " 'visual': ('visual', 'visual', 'Visual', '', ''),\n",
       " 'width': ('width', 'width', 'Width', <string object: '0'>, 0)}"
      ]
     },
     "execution_count": 57,
     "metadata": {},
     "output_type": "execute_result"
    }
   ],
   "source": [
    "window = Tk(className='Mario-v1')\n",
    "window.geometry(\"300x300\")\n",
    "window.configure()"
   ]
  },
  {
   "cell_type": "code",
   "execution_count": 58,
   "metadata": {},
   "outputs": [],
   "source": [
    "l1 = Label(window, text = \"Accuracy:\")\n",
    "l2 = Label(window, text = \"Reward:\")\n",
    "\n",
    "l1.grid(row = 0, column = 2, pady = 2)\n",
    "l2.grid(row = 1, column = 2, pady = 2)\n",
    "\n",
    "l3 = Label(window, text = \"0.95%\")\n",
    "l4 = Label(window, text = \"542\")\n",
    "\n",
    "l3.grid(row = 0, column = 4, pady = 2, padx=20)\n",
    "l4.grid(row = 1, column = 4, pady = 2, padx=20)"
   ]
  },
  {
   "cell_type": "code",
   "execution_count": 59,
   "metadata": {},
   "outputs": [],
   "source": [
    "window.mainloop()"
   ]
  },
  {
   "cell_type": "code",
   "execution_count": null,
   "metadata": {},
   "outputs": [],
   "source": []
  },
  {
   "cell_type": "code",
   "execution_count": null,
   "metadata": {},
   "outputs": [],
   "source": []
  }
 ],
 "metadata": {
  "kernelspec": {
   "display_name": "Python 3",
   "language": "python",
   "name": "python3"
  },
  "language_info": {
   "codemirror_mode": {
    "name": "ipython",
    "version": 3
   },
   "file_extension": ".py",
   "mimetype": "text/x-python",
   "name": "python",
   "nbconvert_exporter": "python",
   "pygments_lexer": "ipython3",
   "version": "3.8.10"
  }
 },
 "nbformat": 4,
 "nbformat_minor": 1
}
